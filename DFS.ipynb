{
  "nbformat": 4,
  "nbformat_minor": 0,
  "metadata": {
    "colab": {
      "provenance": [],
      "authorship_tag": "ABX9TyPZ0WAxN0rDPDhgXMG4uj8S",
      "include_colab_link": true
    },
    "kernelspec": {
      "name": "python3",
      "display_name": "Python 3"
    },
    "language_info": {
      "name": "python"
    }
  },
  "cells": [
    {
      "cell_type": "markdown",
      "metadata": {
        "id": "view-in-github",
        "colab_type": "text"
      },
      "source": [
        "<a href=\"https://colab.research.google.com/github/Abhay182005dat/Ai_Lab/blob/main/DFS.ipynb\" target=\"_parent\"><img src=\"https://colab.research.google.com/assets/colab-badge.svg\" alt=\"Open In Colab\"/></a>"
      ]
    },
    {
      "cell_type": "markdown",
      "source": [
        "###Python Program to implement the DFS algorithm"
      ],
      "metadata": {
        "id": "vWmtKNuFku0w"
      }
    },
    {
      "cell_type": "code",
      "execution_count": 5,
      "metadata": {
        "id": "gH56Np6mktyN"
      },
      "outputs": [],
      "source": [
        "#Define the graph/tree structure using adjacency list\n",
        "graph = {\n",
        "  'A': ['B','C'],     #Node A connects to B and C\n",
        "  'B': ['D','E'],     #Node B connects to D and E\n",
        "  'C': ['F'],         #Node C connects to F\n",
        "  'D':[],             #Node D is a leaf (no children)\n",
        "  'E':[],             #Node E is a leaf (no children)\n",
        "  'F':[]              #Node F is a leaf (no children)\n",
        "}"
      ]
    },
    {
      "cell_type": "code",
      "source": [
        "def dfs_using_stack(graph,start_node):\n",
        "  stack = [start_node]   #Initialize the stack with the start node\n",
        "  visited = set()        #Track visited nodes\n",
        "\n",
        "  while stack: #Loop until the stack is empty\n",
        "    current_node = stack.pop()    #Get the top node from the stack\n",
        "\n",
        "    if current_node not in visited:\n",
        "      print(current_node,end=\" \") #Process the node(print it)\n",
        "      visited.add(current_node)   #Mark it as visited\n",
        "\n",
        "      #Add neighbours to the stack in reverse order to ensure correct DFS traversal\n",
        "      for neighbour in reversed(graph[current_node]):\n",
        "        if neighbour not in visited:\n",
        "          stack.append(neighbour)"
      ],
      "metadata": {
        "id": "Vc3qJbS6kxVR"
      },
      "execution_count": 6,
      "outputs": []
    },
    {
      "cell_type": "code",
      "source": [
        "#Call DFS starting from node 'A'\n",
        "print(\"DFS Traversal Order (Using stack): \")\n",
        "dfs_using_stack(graph,'A')"
      ],
      "metadata": {
        "colab": {
          "base_uri": "https://localhost:8080/"
        },
        "id": "LxLKlGK_k5cQ",
        "outputId": "76e26bb4-74e9-428f-a600-846177dc6c71"
      },
      "execution_count": 7,
      "outputs": [
        {
          "output_type": "stream",
          "name": "stdout",
          "text": [
            "DFS Traversal Order (Using stack): \n",
            "A B D E C F "
          ]
        }
      ]
    },
    {
      "cell_type": "code",
      "source": [],
      "metadata": {
        "id": "Nf93F9jZk99n"
      },
      "execution_count": null,
      "outputs": []
    }
  ]
}