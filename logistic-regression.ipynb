{
 "cells": [
  {
   "cell_type": "code",
   "execution_count": 1,
   "id": "99d6e172",
   "metadata": {
    "_cell_guid": "b1076dfc-b9ad-4769-8c92-a6c4dae69d19",
    "_uuid": "8f2839f25d086af736a60e9eeb907d3b93b6e0e5",
    "execution": {
     "iopub.execute_input": "2025-04-14T18:45:34.645463Z",
     "iopub.status.busy": "2025-04-14T18:45:34.645144Z",
     "iopub.status.idle": "2025-04-14T18:45:38.878303Z",
     "shell.execute_reply": "2025-04-14T18:45:38.877028Z"
    },
    "papermill": {
     "duration": 4.241144,
     "end_time": "2025-04-14T18:45:38.880355",
     "exception": false,
     "start_time": "2025-04-14T18:45:34.639211",
     "status": "completed"
    },
    "tags": []
   },
   "outputs": [
    {
     "name": "stdout",
     "output_type": "stream",
     "text": [
      "/kaggle/input/social-networks/Social_Network_Ads.csv\n"
     ]
    }
   ],
   "source": [
    "# This Python 3 environment comes with many helpful analytics libraries installed\n",
    "# It is defined by the kaggle/python Docker image: https://github.com/kaggle/docker-python\n",
    "# For example, here's several helpful packages to load\n",
    "\n",
    "import numpy as np # linear algebra\n",
    "import pandas as pd # data processing, CSV file I/O (e.g. pd.read_csv)\n",
    "import matplotlib.pyplot as plt\n",
    "import seaborn as sns\n",
    "# Input data files are available in the read-only \"../input/\" directory\n",
    "# For example, running this (by clicking run or pressing Shift+Enter) will list all files under the input directory\n",
    "\n",
    "import os\n",
    "for dirname, _, filenames in os.walk('/kaggle/input'):\n",
    "    for filename in filenames:\n",
    "        print(os.path.join(dirname, filename))\n",
    "\n",
    "# You can write up to 20GB to the current directory (/kaggle/working/) that gets preserved as output when you create a version using \"Save & Run All\" \n",
    "# You can also write temporary files to /kaggle/temp/, but they won't be saved outside of the current session"
   ]
  },
  {
   "cell_type": "code",
   "execution_count": 2,
   "id": "aa80650b",
   "metadata": {
    "execution": {
     "iopub.execute_input": "2025-04-14T18:45:38.891049Z",
     "iopub.status.busy": "2025-04-14T18:45:38.890527Z",
     "iopub.status.idle": "2025-04-14T18:45:38.912085Z",
     "shell.execute_reply": "2025-04-14T18:45:38.910520Z"
    },
    "papermill": {
     "duration": 0.028878,
     "end_time": "2025-04-14T18:45:38.914023",
     "exception": false,
     "start_time": "2025-04-14T18:45:38.885145",
     "status": "completed"
    },
    "tags": []
   },
   "outputs": [],
   "source": [
    "df = pd.read_csv('/kaggle/input/social-networks/Social_Network_Ads.csv')"
   ]
  },
  {
   "cell_type": "code",
   "execution_count": 3,
   "id": "9b7bfcef",
   "metadata": {
    "execution": {
     "iopub.execute_input": "2025-04-14T18:45:38.924932Z",
     "iopub.status.busy": "2025-04-14T18:45:38.924372Z",
     "iopub.status.idle": "2025-04-14T18:45:38.953347Z",
     "shell.execute_reply": "2025-04-14T18:45:38.951869Z"
    },
    "papermill": {
     "duration": 0.036558,
     "end_time": "2025-04-14T18:45:38.955398",
     "exception": false,
     "start_time": "2025-04-14T18:45:38.918840",
     "status": "completed"
    },
    "tags": []
   },
   "outputs": [
    {
     "data": {
      "text/html": [
       "<div>\n",
       "<style scoped>\n",
       "    .dataframe tbody tr th:only-of-type {\n",
       "        vertical-align: middle;\n",
       "    }\n",
       "\n",
       "    .dataframe tbody tr th {\n",
       "        vertical-align: top;\n",
       "    }\n",
       "\n",
       "    .dataframe thead th {\n",
       "        text-align: right;\n",
       "    }\n",
       "</style>\n",
       "<table border=\"1\" class=\"dataframe\">\n",
       "  <thead>\n",
       "    <tr style=\"text-align: right;\">\n",
       "      <th></th>\n",
       "      <th>User ID</th>\n",
       "      <th>Gender</th>\n",
       "      <th>Age</th>\n",
       "      <th>EstimatedSalary</th>\n",
       "      <th>Purchased</th>\n",
       "    </tr>\n",
       "  </thead>\n",
       "  <tbody>\n",
       "    <tr>\n",
       "      <th>0</th>\n",
       "      <td>15624510</td>\n",
       "      <td>Male</td>\n",
       "      <td>19</td>\n",
       "      <td>19000</td>\n",
       "      <td>0</td>\n",
       "    </tr>\n",
       "    <tr>\n",
       "      <th>1</th>\n",
       "      <td>15810944</td>\n",
       "      <td>Male</td>\n",
       "      <td>35</td>\n",
       "      <td>20000</td>\n",
       "      <td>0</td>\n",
       "    </tr>\n",
       "    <tr>\n",
       "      <th>2</th>\n",
       "      <td>15668575</td>\n",
       "      <td>Female</td>\n",
       "      <td>26</td>\n",
       "      <td>43000</td>\n",
       "      <td>0</td>\n",
       "    </tr>\n",
       "    <tr>\n",
       "      <th>3</th>\n",
       "      <td>15603246</td>\n",
       "      <td>Female</td>\n",
       "      <td>27</td>\n",
       "      <td>57000</td>\n",
       "      <td>0</td>\n",
       "    </tr>\n",
       "    <tr>\n",
       "      <th>4</th>\n",
       "      <td>15804002</td>\n",
       "      <td>Male</td>\n",
       "      <td>19</td>\n",
       "      <td>76000</td>\n",
       "      <td>0</td>\n",
       "    </tr>\n",
       "  </tbody>\n",
       "</table>\n",
       "</div>"
      ],
      "text/plain": [
       "    User ID  Gender  Age  EstimatedSalary  Purchased\n",
       "0  15624510    Male   19            19000          0\n",
       "1  15810944    Male   35            20000          0\n",
       "2  15668575  Female   26            43000          0\n",
       "3  15603246  Female   27            57000          0\n",
       "4  15804002    Male   19            76000          0"
      ]
     },
     "execution_count": 3,
     "metadata": {},
     "output_type": "execute_result"
    }
   ],
   "source": [
    "df.head()"
   ]
  },
  {
   "cell_type": "code",
   "execution_count": 4,
   "id": "2a08d76a",
   "metadata": {
    "execution": {
     "iopub.execute_input": "2025-04-14T18:45:38.966477Z",
     "iopub.status.busy": "2025-04-14T18:45:38.966123Z",
     "iopub.status.idle": "2025-04-14T18:45:38.974770Z",
     "shell.execute_reply": "2025-04-14T18:45:38.973449Z"
    },
    "papermill": {
     "duration": 0.016594,
     "end_time": "2025-04-14T18:45:38.976753",
     "exception": false,
     "start_time": "2025-04-14T18:45:38.960159",
     "status": "completed"
    },
    "tags": []
   },
   "outputs": [
    {
     "data": {
      "text/plain": [
       "User ID            0\n",
       "Gender             0\n",
       "Age                0\n",
       "EstimatedSalary    0\n",
       "Purchased          0\n",
       "dtype: int64"
      ]
     },
     "execution_count": 4,
     "metadata": {},
     "output_type": "execute_result"
    }
   ],
   "source": [
    "df.isnull().sum()"
   ]
  },
  {
   "cell_type": "code",
   "execution_count": 5,
   "id": "06f6bdbe",
   "metadata": {
    "execution": {
     "iopub.execute_input": "2025-04-14T18:45:38.987434Z",
     "iopub.status.busy": "2025-04-14T18:45:38.987101Z",
     "iopub.status.idle": "2025-04-14T18:45:38.993581Z",
     "shell.execute_reply": "2025-04-14T18:45:38.992683Z"
    },
    "papermill": {
     "duration": 0.014053,
     "end_time": "2025-04-14T18:45:38.995384",
     "exception": false,
     "start_time": "2025-04-14T18:45:38.981331",
     "status": "completed"
    },
    "tags": []
   },
   "outputs": [
    {
     "data": {
      "text/plain": [
       "(400, 5)"
      ]
     },
     "execution_count": 5,
     "metadata": {},
     "output_type": "execute_result"
    }
   ],
   "source": [
    "df.shape"
   ]
  },
  {
   "cell_type": "code",
   "execution_count": 6,
   "id": "2944d66d",
   "metadata": {
    "execution": {
     "iopub.execute_input": "2025-04-14T18:45:39.007549Z",
     "iopub.status.busy": "2025-04-14T18:45:39.007254Z",
     "iopub.status.idle": "2025-04-14T18:45:39.033246Z",
     "shell.execute_reply": "2025-04-14T18:45:39.032088Z"
    },
    "papermill": {
     "duration": 0.034676,
     "end_time": "2025-04-14T18:45:39.034854",
     "exception": false,
     "start_time": "2025-04-14T18:45:39.000178",
     "status": "completed"
    },
    "tags": []
   },
   "outputs": [
    {
     "name": "stdout",
     "output_type": "stream",
     "text": [
      "<class 'pandas.core.frame.DataFrame'>\n",
      "RangeIndex: 400 entries, 0 to 399\n",
      "Data columns (total 5 columns):\n",
      " #   Column           Non-Null Count  Dtype \n",
      "---  ------           --------------  ----- \n",
      " 0   User ID          400 non-null    int64 \n",
      " 1   Gender           400 non-null    object\n",
      " 2   Age              400 non-null    int64 \n",
      " 3   EstimatedSalary  400 non-null    int64 \n",
      " 4   Purchased        400 non-null    int64 \n",
      "dtypes: int64(4), object(1)\n",
      "memory usage: 15.8+ KB\n"
     ]
    }
   ],
   "source": [
    "df.info()"
   ]
  },
  {
   "cell_type": "code",
   "execution_count": 7,
   "id": "7ff0d042",
   "metadata": {
    "execution": {
     "iopub.execute_input": "2025-04-14T18:45:39.045806Z",
     "iopub.status.busy": "2025-04-14T18:45:39.045463Z",
     "iopub.status.idle": "2025-04-14T18:45:39.068874Z",
     "shell.execute_reply": "2025-04-14T18:45:39.067912Z"
    },
    "papermill": {
     "duration": 0.030955,
     "end_time": "2025-04-14T18:45:39.070771",
     "exception": false,
     "start_time": "2025-04-14T18:45:39.039816",
     "status": "completed"
    },
    "tags": []
   },
   "outputs": [
    {
     "data": {
      "text/html": [
       "<div>\n",
       "<style scoped>\n",
       "    .dataframe tbody tr th:only-of-type {\n",
       "        vertical-align: middle;\n",
       "    }\n",
       "\n",
       "    .dataframe tbody tr th {\n",
       "        vertical-align: top;\n",
       "    }\n",
       "\n",
       "    .dataframe thead th {\n",
       "        text-align: right;\n",
       "    }\n",
       "</style>\n",
       "<table border=\"1\" class=\"dataframe\">\n",
       "  <thead>\n",
       "    <tr style=\"text-align: right;\">\n",
       "      <th></th>\n",
       "      <th>User ID</th>\n",
       "      <th>Age</th>\n",
       "      <th>EstimatedSalary</th>\n",
       "      <th>Purchased</th>\n",
       "    </tr>\n",
       "  </thead>\n",
       "  <tbody>\n",
       "    <tr>\n",
       "      <th>count</th>\n",
       "      <td>4.000000e+02</td>\n",
       "      <td>400.000000</td>\n",
       "      <td>400.000000</td>\n",
       "      <td>400.000000</td>\n",
       "    </tr>\n",
       "    <tr>\n",
       "      <th>mean</th>\n",
       "      <td>1.569154e+07</td>\n",
       "      <td>37.655000</td>\n",
       "      <td>69742.500000</td>\n",
       "      <td>0.357500</td>\n",
       "    </tr>\n",
       "    <tr>\n",
       "      <th>std</th>\n",
       "      <td>7.165832e+04</td>\n",
       "      <td>10.482877</td>\n",
       "      <td>34096.960282</td>\n",
       "      <td>0.479864</td>\n",
       "    </tr>\n",
       "    <tr>\n",
       "      <th>min</th>\n",
       "      <td>1.556669e+07</td>\n",
       "      <td>18.000000</td>\n",
       "      <td>15000.000000</td>\n",
       "      <td>0.000000</td>\n",
       "    </tr>\n",
       "    <tr>\n",
       "      <th>25%</th>\n",
       "      <td>1.562676e+07</td>\n",
       "      <td>29.750000</td>\n",
       "      <td>43000.000000</td>\n",
       "      <td>0.000000</td>\n",
       "    </tr>\n",
       "    <tr>\n",
       "      <th>50%</th>\n",
       "      <td>1.569434e+07</td>\n",
       "      <td>37.000000</td>\n",
       "      <td>70000.000000</td>\n",
       "      <td>0.000000</td>\n",
       "    </tr>\n",
       "    <tr>\n",
       "      <th>75%</th>\n",
       "      <td>1.575036e+07</td>\n",
       "      <td>46.000000</td>\n",
       "      <td>88000.000000</td>\n",
       "      <td>1.000000</td>\n",
       "    </tr>\n",
       "    <tr>\n",
       "      <th>max</th>\n",
       "      <td>1.581524e+07</td>\n",
       "      <td>60.000000</td>\n",
       "      <td>150000.000000</td>\n",
       "      <td>1.000000</td>\n",
       "    </tr>\n",
       "  </tbody>\n",
       "</table>\n",
       "</div>"
      ],
      "text/plain": [
       "            User ID         Age  EstimatedSalary   Purchased\n",
       "count  4.000000e+02  400.000000       400.000000  400.000000\n",
       "mean   1.569154e+07   37.655000     69742.500000    0.357500\n",
       "std    7.165832e+04   10.482877     34096.960282    0.479864\n",
       "min    1.556669e+07   18.000000     15000.000000    0.000000\n",
       "25%    1.562676e+07   29.750000     43000.000000    0.000000\n",
       "50%    1.569434e+07   37.000000     70000.000000    0.000000\n",
       "75%    1.575036e+07   46.000000     88000.000000    1.000000\n",
       "max    1.581524e+07   60.000000    150000.000000    1.000000"
      ]
     },
     "execution_count": 7,
     "metadata": {},
     "output_type": "execute_result"
    }
   ],
   "source": [
    "df.describe()"
   ]
  },
  {
   "cell_type": "code",
   "execution_count": 8,
   "id": "4ce51937",
   "metadata": {
    "execution": {
     "iopub.execute_input": "2025-04-14T18:45:39.082965Z",
     "iopub.status.busy": "2025-04-14T18:45:39.082542Z",
     "iopub.status.idle": "2025-04-14T18:45:39.091692Z",
     "shell.execute_reply": "2025-04-14T18:45:39.090549Z"
    },
    "papermill": {
     "duration": 0.017373,
     "end_time": "2025-04-14T18:45:39.093514",
     "exception": false,
     "start_time": "2025-04-14T18:45:39.076141",
     "status": "completed"
    },
    "tags": []
   },
   "outputs": [
    {
     "data": {
      "text/plain": [
       "Gender\n",
       "Female    204\n",
       "Male      196\n",
       "Name: count, dtype: int64"
      ]
     },
     "execution_count": 8,
     "metadata": {},
     "output_type": "execute_result"
    }
   ],
   "source": [
    "df['Gender'].value_counts()"
   ]
  },
  {
   "cell_type": "code",
   "execution_count": 9,
   "id": "341c68a2",
   "metadata": {
    "execution": {
     "iopub.execute_input": "2025-04-14T18:45:39.104421Z",
     "iopub.status.busy": "2025-04-14T18:45:39.104133Z",
     "iopub.status.idle": "2025-04-14T18:45:39.110685Z",
     "shell.execute_reply": "2025-04-14T18:45:39.109628Z"
    },
    "papermill": {
     "duration": 0.014176,
     "end_time": "2025-04-14T18:45:39.112562",
     "exception": false,
     "start_time": "2025-04-14T18:45:39.098386",
     "status": "completed"
    },
    "tags": []
   },
   "outputs": [
    {
     "data": {
      "text/plain": [
       "Index(['User ID', 'Gender', 'Age', 'EstimatedSalary', 'Purchased'], dtype='object')"
      ]
     },
     "execution_count": 9,
     "metadata": {},
     "output_type": "execute_result"
    }
   ],
   "source": [
    "df.columns"
   ]
  },
  {
   "cell_type": "code",
   "execution_count": 10,
   "id": "e0f4593c",
   "metadata": {
    "execution": {
     "iopub.execute_input": "2025-04-14T18:45:39.124701Z",
     "iopub.status.busy": "2025-04-14T18:45:39.124363Z",
     "iopub.status.idle": "2025-04-14T18:45:39.130788Z",
     "shell.execute_reply": "2025-04-14T18:45:39.129553Z"
    },
    "papermill": {
     "duration": 0.014409,
     "end_time": "2025-04-14T18:45:39.132621",
     "exception": false,
     "start_time": "2025-04-14T18:45:39.118212",
     "status": "completed"
    },
    "tags": []
   },
   "outputs": [],
   "source": [
    "df['Gender'] = df['Gender'].map({'Male': 0, 'Female': 1})"
   ]
  },
  {
   "cell_type": "code",
   "execution_count": 11,
   "id": "b9239792",
   "metadata": {
    "execution": {
     "iopub.execute_input": "2025-04-14T18:45:39.144074Z",
     "iopub.status.busy": "2025-04-14T18:45:39.143664Z",
     "iopub.status.idle": "2025-04-14T18:45:39.156054Z",
     "shell.execute_reply": "2025-04-14T18:45:39.154875Z"
    },
    "papermill": {
     "duration": 0.020105,
     "end_time": "2025-04-14T18:45:39.157701",
     "exception": false,
     "start_time": "2025-04-14T18:45:39.137596",
     "status": "completed"
    },
    "tags": []
   },
   "outputs": [],
   "source": [
    "df = pd.get_dummies(df, columns=['Gender'])"
   ]
  },
  {
   "cell_type": "code",
   "execution_count": 12,
   "id": "82bc1858",
   "metadata": {
    "execution": {
     "iopub.execute_input": "2025-04-14T18:45:39.169161Z",
     "iopub.status.busy": "2025-04-14T18:45:39.168807Z",
     "iopub.status.idle": "2025-04-14T18:45:39.175434Z",
     "shell.execute_reply": "2025-04-14T18:45:39.174197Z"
    },
    "papermill": {
     "duration": 0.014673,
     "end_time": "2025-04-14T18:45:39.177341",
     "exception": false,
     "start_time": "2025-04-14T18:45:39.162668",
     "status": "completed"
    },
    "tags": []
   },
   "outputs": [],
   "source": [
    "df = df.rename(columns = {'Gender_0' : 'Male' , 'Gender_1': 'Female'})"
   ]
  },
  {
   "cell_type": "code",
   "execution_count": 13,
   "id": "a42a5ea5",
   "metadata": {
    "execution": {
     "iopub.execute_input": "2025-04-14T18:45:39.189495Z",
     "iopub.status.busy": "2025-04-14T18:45:39.189168Z",
     "iopub.status.idle": "2025-04-14T18:45:39.206336Z",
     "shell.execute_reply": "2025-04-14T18:45:39.204914Z"
    },
    "papermill": {
     "duration": 0.025405,
     "end_time": "2025-04-14T18:45:39.208277",
     "exception": false,
     "start_time": "2025-04-14T18:45:39.182872",
     "status": "completed"
    },
    "tags": []
   },
   "outputs": [
    {
     "data": {
      "text/html": [
       "<div>\n",
       "<style scoped>\n",
       "    .dataframe tbody tr th:only-of-type {\n",
       "        vertical-align: middle;\n",
       "    }\n",
       "\n",
       "    .dataframe tbody tr th {\n",
       "        vertical-align: top;\n",
       "    }\n",
       "\n",
       "    .dataframe thead th {\n",
       "        text-align: right;\n",
       "    }\n",
       "</style>\n",
       "<table border=\"1\" class=\"dataframe\">\n",
       "  <thead>\n",
       "    <tr style=\"text-align: right;\">\n",
       "      <th></th>\n",
       "      <th>User ID</th>\n",
       "      <th>Age</th>\n",
       "      <th>EstimatedSalary</th>\n",
       "      <th>Purchased</th>\n",
       "      <th>Male</th>\n",
       "      <th>Female</th>\n",
       "    </tr>\n",
       "  </thead>\n",
       "  <tbody>\n",
       "    <tr>\n",
       "      <th>User ID</th>\n",
       "      <td>1.000000</td>\n",
       "      <td>-0.000721</td>\n",
       "      <td>0.071097</td>\n",
       "      <td>0.007120</td>\n",
       "      <td>-0.025249</td>\n",
       "      <td>0.025249</td>\n",
       "    </tr>\n",
       "    <tr>\n",
       "      <th>Age</th>\n",
       "      <td>-0.000721</td>\n",
       "      <td>1.000000</td>\n",
       "      <td>0.155238</td>\n",
       "      <td>0.622454</td>\n",
       "      <td>-0.073741</td>\n",
       "      <td>0.073741</td>\n",
       "    </tr>\n",
       "    <tr>\n",
       "      <th>EstimatedSalary</th>\n",
       "      <td>0.071097</td>\n",
       "      <td>0.155238</td>\n",
       "      <td>1.000000</td>\n",
       "      <td>0.362083</td>\n",
       "      <td>-0.060435</td>\n",
       "      <td>0.060435</td>\n",
       "    </tr>\n",
       "    <tr>\n",
       "      <th>Purchased</th>\n",
       "      <td>0.007120</td>\n",
       "      <td>0.622454</td>\n",
       "      <td>0.362083</td>\n",
       "      <td>1.000000</td>\n",
       "      <td>-0.042469</td>\n",
       "      <td>0.042469</td>\n",
       "    </tr>\n",
       "    <tr>\n",
       "      <th>Male</th>\n",
       "      <td>-0.025249</td>\n",
       "      <td>-0.073741</td>\n",
       "      <td>-0.060435</td>\n",
       "      <td>-0.042469</td>\n",
       "      <td>1.000000</td>\n",
       "      <td>-1.000000</td>\n",
       "    </tr>\n",
       "    <tr>\n",
       "      <th>Female</th>\n",
       "      <td>0.025249</td>\n",
       "      <td>0.073741</td>\n",
       "      <td>0.060435</td>\n",
       "      <td>0.042469</td>\n",
       "      <td>-1.000000</td>\n",
       "      <td>1.000000</td>\n",
       "    </tr>\n",
       "  </tbody>\n",
       "</table>\n",
       "</div>"
      ],
      "text/plain": [
       "                  User ID       Age  EstimatedSalary  Purchased      Male  \\\n",
       "User ID          1.000000 -0.000721         0.071097   0.007120 -0.025249   \n",
       "Age             -0.000721  1.000000         0.155238   0.622454 -0.073741   \n",
       "EstimatedSalary  0.071097  0.155238         1.000000   0.362083 -0.060435   \n",
       "Purchased        0.007120  0.622454         0.362083   1.000000 -0.042469   \n",
       "Male            -0.025249 -0.073741        -0.060435  -0.042469  1.000000   \n",
       "Female           0.025249  0.073741         0.060435   0.042469 -1.000000   \n",
       "\n",
       "                   Female  \n",
       "User ID          0.025249  \n",
       "Age              0.073741  \n",
       "EstimatedSalary  0.060435  \n",
       "Purchased        0.042469  \n",
       "Male            -1.000000  \n",
       "Female           1.000000  "
      ]
     },
     "execution_count": 13,
     "metadata": {},
     "output_type": "execute_result"
    }
   ],
   "source": [
    "df.corr()"
   ]
  },
  {
   "cell_type": "code",
   "execution_count": 14,
   "id": "21d33226",
   "metadata": {
    "execution": {
     "iopub.execute_input": "2025-04-14T18:45:39.219834Z",
     "iopub.status.busy": "2025-04-14T18:45:39.219450Z",
     "iopub.status.idle": "2025-04-14T18:45:39.701467Z",
     "shell.execute_reply": "2025-04-14T18:45:39.700115Z"
    },
    "papermill": {
     "duration": 0.490193,
     "end_time": "2025-04-14T18:45:39.703637",
     "exception": false,
     "start_time": "2025-04-14T18:45:39.213444",
     "status": "completed"
    },
    "tags": []
   },
   "outputs": [
    {
     "data": {
      "text/plain": [
       "<Axes: >"
      ]
     },
     "execution_count": 14,
     "metadata": {},
     "output_type": "execute_result"
    },
    {
     "data": {
      "image/png": "[encoded data removed]",
      "text/plain": [
       "<Figure size 1000x600 with 2 Axes>"
      ]
     },
     "metadata": {},
     "output_type": "display_data"
    }
   ],
   "source": [
    "plt.figure(figsize = (10,6))\n",
    "sns.heatmap(df.corr(), annot = True , cmap = 'coolwarm')"
   ]
  },
  {
   "cell_type": "markdown",
   "id": "8e661aa2",
   "metadata": {
    "papermill": {
     "duration": 0.006241,
     "end_time": "2025-04-14T18:45:39.717191",
     "exception": false,
     "start_time": "2025-04-14T18:45:39.710950",
     "status": "completed"
    },
    "tags": []
   },
   "source": [
    "We see that :\n",
    "\n",
    "> Age and Purchased has strong positive correlation & EstmatedSalary and purchased has also the same."
   ]
  },
  {
   "cell_type": "code",
   "execution_count": 15,
   "id": "4f185511",
   "metadata": {
    "execution": {
     "iopub.execute_input": "2025-04-14T18:45:39.733293Z",
     "iopub.status.busy": "2025-04-14T18:45:39.732835Z",
     "iopub.status.idle": "2025-04-14T18:45:39.747942Z",
     "shell.execute_reply": "2025-04-14T18:45:39.746905Z"
    },
    "papermill": {
     "duration": 0.02479,
     "end_time": "2025-04-14T18:45:39.749687",
     "exception": false,
     "start_time": "2025-04-14T18:45:39.724897",
     "status": "completed"
    },
    "tags": []
   },
   "outputs": [
    {
     "data": {
      "text/html": [
       "<div>\n",
       "<style scoped>\n",
       "    .dataframe tbody tr th:only-of-type {\n",
       "        vertical-align: middle;\n",
       "    }\n",
       "\n",
       "    .dataframe tbody tr th {\n",
       "        vertical-align: top;\n",
       "    }\n",
       "\n",
       "    .dataframe thead th {\n",
       "        text-align: right;\n",
       "    }\n",
       "</style>\n",
       "<table border=\"1\" class=\"dataframe\">\n",
       "  <thead>\n",
       "    <tr style=\"text-align: right;\">\n",
       "      <th></th>\n",
       "      <th>User ID</th>\n",
       "      <th>Age</th>\n",
       "      <th>EstimatedSalary</th>\n",
       "      <th>Purchased</th>\n",
       "      <th>Male</th>\n",
       "      <th>Female</th>\n",
       "    </tr>\n",
       "  </thead>\n",
       "  <tbody>\n",
       "    <tr>\n",
       "      <th>0</th>\n",
       "      <td>15624510</td>\n",
       "      <td>19</td>\n",
       "      <td>19000</td>\n",
       "      <td>0</td>\n",
       "      <td>True</td>\n",
       "      <td>False</td>\n",
       "    </tr>\n",
       "    <tr>\n",
       "      <th>1</th>\n",
       "      <td>15810944</td>\n",
       "      <td>35</td>\n",
       "      <td>20000</td>\n",
       "      <td>0</td>\n",
       "      <td>True</td>\n",
       "      <td>False</td>\n",
       "    </tr>\n",
       "    <tr>\n",
       "      <th>2</th>\n",
       "      <td>15668575</td>\n",
       "      <td>26</td>\n",
       "      <td>43000</td>\n",
       "      <td>0</td>\n",
       "      <td>False</td>\n",
       "      <td>True</td>\n",
       "    </tr>\n",
       "    <tr>\n",
       "      <th>3</th>\n",
       "      <td>15603246</td>\n",
       "      <td>27</td>\n",
       "      <td>57000</td>\n",
       "      <td>0</td>\n",
       "      <td>False</td>\n",
       "      <td>True</td>\n",
       "    </tr>\n",
       "    <tr>\n",
       "      <th>4</th>\n",
       "      <td>15804002</td>\n",
       "      <td>19</td>\n",
       "      <td>76000</td>\n",
       "      <td>0</td>\n",
       "      <td>True</td>\n",
       "      <td>False</td>\n",
       "    </tr>\n",
       "    <tr>\n",
       "      <th>...</th>\n",
       "      <td>...</td>\n",
       "      <td>...</td>\n",
       "      <td>...</td>\n",
       "      <td>...</td>\n",
       "      <td>...</td>\n",
       "      <td>...</td>\n",
       "    </tr>\n",
       "    <tr>\n",
       "      <th>395</th>\n",
       "      <td>15691863</td>\n",
       "      <td>46</td>\n",
       "      <td>41000</td>\n",
       "      <td>1</td>\n",
       "      <td>False</td>\n",
       "      <td>True</td>\n",
       "    </tr>\n",
       "    <tr>\n",
       "      <th>396</th>\n",
       "      <td>15706071</td>\n",
       "      <td>51</td>\n",
       "      <td>23000</td>\n",
       "      <td>1</td>\n",
       "      <td>True</td>\n",
       "      <td>False</td>\n",
       "    </tr>\n",
       "    <tr>\n",
       "      <th>397</th>\n",
       "      <td>15654296</td>\n",
       "      <td>50</td>\n",
       "      <td>20000</td>\n",
       "      <td>1</td>\n",
       "      <td>False</td>\n",
       "      <td>True</td>\n",
       "    </tr>\n",
       "    <tr>\n",
       "      <th>398</th>\n",
       "      <td>15755018</td>\n",
       "      <td>36</td>\n",
       "      <td>33000</td>\n",
       "      <td>0</td>\n",
       "      <td>True</td>\n",
       "      <td>False</td>\n",
       "    </tr>\n",
       "    <tr>\n",
       "      <th>399</th>\n",
       "      <td>15594041</td>\n",
       "      <td>49</td>\n",
       "      <td>36000</td>\n",
       "      <td>1</td>\n",
       "      <td>False</td>\n",
       "      <td>True</td>\n",
       "    </tr>\n",
       "  </tbody>\n",
       "</table>\n",
       "<p>400 rows × 6 columns</p>\n",
       "</div>"
      ],
      "text/plain": [
       "      User ID  Age  EstimatedSalary  Purchased   Male  Female\n",
       "0    15624510   19            19000          0   True   False\n",
       "1    15810944   35            20000          0   True   False\n",
       "2    15668575   26            43000          0  False    True\n",
       "3    15603246   27            57000          0  False    True\n",
       "4    15804002   19            76000          0   True   False\n",
       "..        ...  ...              ...        ...    ...     ...\n",
       "395  15691863   46            41000          1  False    True\n",
       "396  15706071   51            23000          1   True   False\n",
       "397  15654296   50            20000          1  False    True\n",
       "398  15755018   36            33000          0   True   False\n",
       "399  15594041   49            36000          1  False    True\n",
       "\n",
       "[400 rows x 6 columns]"
      ]
     },
     "execution_count": 15,
     "metadata": {},
     "output_type": "execute_result"
    }
   ],
   "source": [
    "df "
   ]
  },
  {
   "cell_type": "code",
   "execution_count": 16,
   "id": "26f98837",
   "metadata": {
    "execution": {
     "iopub.execute_input": "2025-04-14T18:45:39.765131Z",
     "iopub.status.busy": "2025-04-14T18:45:39.764816Z",
     "iopub.status.idle": "2025-04-14T18:45:40.269638Z",
     "shell.execute_reply": "2025-04-14T18:45:40.268806Z"
    },
    "papermill": {
     "duration": 0.515195,
     "end_time": "2025-04-14T18:45:40.271879",
     "exception": false,
     "start_time": "2025-04-14T18:45:39.756684",
     "status": "completed"
    },
    "tags": []
   },
   "outputs": [
    {
     "name": "stderr",
     "output_type": "stream",
     "text": [
      "/usr/local/lib/python3.11/dist-packages/sklearn/utils/validation.py:1143: DataConversionWarning: A column-vector y was passed when a 1d array was expected. Please change the shape of y to (n_samples, ), for example using ravel().\n",
      "  y = column_or_1d(y, warn=True)\n"
     ]
    },
    {
     "data": {
      "text/html": [
       "<style>#sk-container-id-1 {color: black;background-color: white;}#sk-container-id-1 pre{padding: 0;}#sk-container-id-1 div.sk-toggleable {background-color: white;}#sk-container-id-1 label.sk-toggleable__label {cursor: pointer;display: block;width: 100%;margin-bottom: 0;padding: 0.3em;box-sizing: border-box;text-align: center;}#sk-container-id-1 label.sk-toggleable__label-arrow:before {content: \"▸\";float: left;margin-right: 0.25em;color: #696969;}#sk-container-id-1 label.sk-toggleable__label-arrow:hover:before {color: black;}#sk-container-id-1 div.sk-estimator:hover label.sk-toggleable__label-arrow:before {color: black;}#sk-container-id-1 div.sk-toggleable__content {max-height: 0;max-width: 0;overflow: hidden;text-align: left;background-color: #f0f8ff;}#sk-container-id-1 div.sk-toggleable__content pre {margin: 0.2em;color: black;border-radius: 0.25em;background-color: #f0f8ff;}#sk-container-id-1 input.sk-toggleable__control:checked~div.sk-toggleable__content {max-height: 200px;max-width: 100%;overflow: auto;}#sk-container-id-1 input.sk-toggleable__control:checked~label.sk-toggleable__label-arrow:before {content: \"▾\";}#sk-container-id-1 div.sk-estimator input.sk-toggleable__control:checked~label.sk-toggleable__label {background-color: #d4ebff;}#sk-container-id-1 div.sk-label input.sk-toggleable__control:checked~label.sk-toggleable__label {background-color: #d4ebff;}#sk-container-id-1 input.sk-hidden--visually {border: 0;clip: rect(1px 1px 1px 1px);clip: rect(1px, 1px, 1px, 1px);height: 1px;margin: -1px;overflow: hidden;padding: 0;position: absolute;width: 1px;}#sk-container-id-1 div.sk-estimator {font-family: monospace;background-color: #f0f8ff;border: 1px dotted black;border-radius: 0.25em;box-sizing: border-box;margin-bottom: 0.5em;}#sk-container-id-1 div.sk-estimator:hover {background-color: #d4ebff;}#sk-container-id-1 div.sk-parallel-item::after {content: \"\";width: 100%;border-bottom: 1px solid gray;flex-grow: 1;}#sk-container-id-1 div.sk-label:hover label.sk-toggleable__label {background-color: #d4ebff;}#sk-container-id-1 div.sk-serial::before {content: \"\";position: absolute;border-left: 1px solid gray;box-sizing: border-box;top: 0;bottom: 0;left: 50%;z-index: 0;}#sk-container-id-1 div.sk-serial {display: flex;flex-direction: column;align-items: center;background-color: white;padding-right: 0.2em;padding-left: 0.2em;position: relative;}#sk-container-id-1 div.sk-item {position: relative;z-index: 1;}#sk-container-id-1 div.sk-parallel {display: flex;align-items: stretch;justify-content: center;background-color: white;position: relative;}#sk-container-id-1 div.sk-item::before, #sk-container-id-1 div.sk-parallel-item::before {content: \"\";position: absolute;border-left: 1px solid gray;box-sizing: border-box;top: 0;bottom: 0;left: 50%;z-index: -1;}#sk-container-id-1 div.sk-parallel-item {display: flex;flex-direction: column;z-index: 1;position: relative;background-color: white;}#sk-container-id-1 div.sk-parallel-item:first-child::after {align-self: flex-end;width: 50%;}#sk-container-id-1 div.sk-parallel-item:last-child::after {align-self: flex-start;width: 50%;}#sk-container-id-1 div.sk-parallel-item:only-child::after {width: 0;}#sk-container-id-1 div.sk-dashed-wrapped {border: 1px dashed gray;margin: 0 0.4em 0.5em 0.4em;box-sizing: border-box;padding-bottom: 0.4em;background-color: white;}#sk-container-id-1 div.sk-label label {font-family: monospace;font-weight: bold;display: inline-block;line-height: 1.2em;}#sk-container-id-1 div.sk-label-container {text-align: center;}#sk-container-id-1 div.sk-container {/* jupyter's `normalize.less` sets `[hidden] { display: none; }` but bootstrap.min.css set `[hidden] { display: none !important; }` so we also need the `!important` here to be able to override the default hidden behavior on the sphinx rendered scikit-learn.org. See: https://github.com/scikit-learn/scikit-learn/issues/21755 */display: inline-block !important;position: relative;}#sk-container-id-1 div.sk-text-repr-fallback {display: none;}</style><div id=\"sk-container-id-1\" class=\"sk-top-container\"><div class=\"sk-text-repr-fallback\"><pre>LogisticRegression()</pre><b>In a Jupyter environment, please rerun this cell to show the HTML representation or trust the notebook. <br />On GitHub, the HTML representation is unable to render, please try loading this page with nbviewer.org.</b></div><div class=\"sk-container\" hidden><div class=\"sk-item\"><div class=\"sk-estimator sk-toggleable\"><input class=\"sk-toggleable__control sk-hidden--visually\" id=\"sk-estimator-id-1\" type=\"checkbox\" checked><label for=\"sk-estimator-id-1\" class=\"sk-toggleable__label sk-toggleable__label-arrow\">LogisticRegression</label><div class=\"sk-toggleable__content\"><pre>LogisticRegression()</pre></div></div></div></div></div>"
      ],
      "text/plain": [
       "LogisticRegression()"
      ]
     },
     "execution_count": 16,
     "metadata": {},
     "output_type": "execute_result"
    }
   ],
   "source": [
    "from sklearn.model_selection import train_test_split\n",
    "from sklearn.linear_model import LogisticRegression\n",
    "from sklearn.metrics import accuracy_score, confusion_matrix, classification_report , ConfusionMatrixDisplay\n",
    "\n",
    "x = df[['Age']]\n",
    "y = df[['Purchased']]\n",
    "\n",
    "X_train , X_test ,y_train ,y_test = train_test_split(x,y,test_size = 0.2 , random_state = 42)\n",
    "\n",
    "model = LogisticRegression()\n",
    "model.fit(X_train , y_train)"
   ]
  },
  {
   "cell_type": "code",
   "execution_count": 17,
   "id": "d22f0804",
   "metadata": {
    "execution": {
     "iopub.execute_input": "2025-04-14T18:45:40.296646Z",
     "iopub.status.busy": "2025-04-14T18:45:40.296257Z",
     "iopub.status.idle": "2025-04-14T18:45:40.305434Z",
     "shell.execute_reply": "2025-04-14T18:45:40.304619Z"
    },
    "papermill": {
     "duration": 0.024046,
     "end_time": "2025-04-14T18:45:40.307512",
     "exception": false,
     "start_time": "2025-04-14T18:45:40.283466",
     "status": "completed"
    },
    "tags": []
   },
   "outputs": [],
   "source": [
    "y_pred = model.predict(X_test)"
   ]
  },
  {
   "cell_type": "code",
   "execution_count": 18,
   "id": "ab96034e",
   "metadata": {
    "execution": {
     "iopub.execute_input": "2025-04-14T18:45:40.332123Z",
     "iopub.status.busy": "2025-04-14T18:45:40.330048Z",
     "iopub.status.idle": "2025-04-14T18:45:40.357629Z",
     "shell.execute_reply": "2025-04-14T18:45:40.356682Z"
    },
    "papermill": {
     "duration": 0.041413,
     "end_time": "2025-04-14T18:45:40.359741",
     "exception": false,
     "start_time": "2025-04-14T18:45:40.318328",
     "status": "completed"
    },
    "tags": []
   },
   "outputs": [],
   "source": [
    "accuracy = accuracy_score(y_test , y_pred)\n",
    "confmatrix = confusion_matrix(y_test , y_pred)\n",
    "classify = classification_report(y_test,y_pred)"
   ]
  },
  {
   "cell_type": "code",
   "execution_count": 19,
   "id": "581e46b1",
   "metadata": {
    "execution": {
     "iopub.execute_input": "2025-04-14T18:45:40.380715Z",
     "iopub.status.busy": "2025-04-14T18:45:40.379702Z",
     "iopub.status.idle": "2025-04-14T18:45:40.386174Z",
     "shell.execute_reply": "2025-04-14T18:45:40.385064Z"
    },
    "papermill": {
     "duration": 0.016602,
     "end_time": "2025-04-14T18:45:40.387916",
     "exception": false,
     "start_time": "2025-04-14T18:45:40.371314",
     "status": "completed"
    },
    "tags": []
   },
   "outputs": [
    {
     "name": "stdout",
     "output_type": "stream",
     "text": [
      "Accuracy : 0.9125\n",
      "\n",
      "Confusion Matrix : [[50  2]\n",
      " [ 5 23]]\n",
      "\n",
      "classif.. report :               precision    recall  f1-score   support\n",
      "\n",
      "           0       0.91      0.96      0.93        52\n",
      "           1       0.92      0.82      0.87        28\n",
      "\n",
      "    accuracy                           0.91        80\n",
      "   macro avg       0.91      0.89      0.90        80\n",
      "weighted avg       0.91      0.91      0.91        80\n",
      "\n",
      "\n"
     ]
    }
   ],
   "source": [
    "print(f\"Accuracy : {accuracy}\\n\") \n",
    "print(f\"Confusion Matrix : {confmatrix}\\n\")\n",
    "print(f\"classif.. report : {classify}\\n\")"
   ]
  },
  {
   "cell_type": "code",
   "execution_count": 20,
   "id": "a206f8e0",
   "metadata": {
    "execution": {
     "iopub.execute_input": "2025-04-14T18:45:40.402713Z",
     "iopub.status.busy": "2025-04-14T18:45:40.402391Z",
     "iopub.status.idle": "2025-04-14T18:45:40.635241Z",
     "shell.execute_reply": "2025-04-14T18:45:40.634103Z"
    },
    "papermill": {
     "duration": 0.241997,
     "end_time": "2025-04-14T18:45:40.636781",
     "exception": false,
     "start_time": "2025-04-14T18:45:40.394784",
     "status": "completed"
    },
    "tags": []
   },
   "outputs": [
    {
     "data": {
      "text/plain": [
       "<sklearn.metrics._plot.confusion_matrix.ConfusionMatrixDisplay at 0x7a4f33ddb550>"
      ]
     },
     "execution_count": 20,
     "metadata": {},
     "output_type": "execute_result"
    },
    {
     "data": {
      "image/png": "[encoded data removed]",
      "text/plain": [
       "<Figure size 640x480 with 2 Axes>"
      ]
     },
     "metadata": {},
     "output_type": "display_data"
    }
   ],
   "source": [
    "disp = ConfusionMatrixDisplay(confusion_matrix = confmatrix )\n",
    "disp.plot()"
   ]
  },
  {
   "cell_type": "code",
   "execution_count": null,
   "id": "41874bb0",
   "metadata": {
    "papermill": {
     "duration": 0.006861,
     "end_time": "2025-04-14T18:45:40.650778",
     "exception": false,
     "start_time": "2025-04-14T18:45:40.643917",
     "status": "completed"
    },
    "tags": []
   },
   "outputs": [],
   "source": []
  }
 ],
 "metadata": {
  "kaggle": {
   "accelerator": "none",
   "dataSources": [
    {
     "datasetId": 7144400,
     "sourceId": 11405742,
     "sourceType": "datasetVersion"
    }
   ],
   "dockerImageVersionId": 31012,
   "isGpuEnabled": false,
   "isInternetEnabled": false,
   "language": "python",
   "sourceType": "notebook"
  },
  "kernelspec": {
   "display_name": "Python 3",
   "language": "python",
   "name": "python3"
  },
  "language_info": {
   "codemirror_mode": {
    "name": "ipython",
    "version": 3
   },
   "file_extension": ".py",
   "mimetype": "text/x-python",
   "name": "python",
   "nbconvert_exporter": "python",
   "pygments_lexer": "ipython3",
   "version": "3.11.11"
  },
  "papermill": {
   "default_parameters": {},
   "duration": 12.010403,
   "end_time": "2025-04-14T18:45:41.480148",
   "environment_variables": {},
   "exception": null,
   "input_path": "__notebook__.ipynb",
   "output_path": "__notebook__.ipynb",
   "parameters": {},
   "start_time": "2025-04-14T18:45:29.469745",
   "version": "2.6.0"
  }
 },
 "nbformat": 4,
 "nbformat_minor": 5
}
