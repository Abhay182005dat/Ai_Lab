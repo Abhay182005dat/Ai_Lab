{
  "nbformat": 4,
  "nbformat_minor": 0,
  "metadata": {
    "colab": {
      "provenance": [],
      "authorship_tag": "ABX9TyNTxighnvGfO/RVASrzIjZy",
      "include_colab_link": true
    },
    "kernelspec": {
      "name": "python3",
      "display_name": "Python 3"
    },
    "language_info": {
      "name": "python"
    }
  },
  "cells": [
    {
      "cell_type": "markdown",
      "metadata": {
        "id": "view-in-github",
        "colab_type": "text"
      },
      "source": [
        "<a href=\"https://colab.research.google.com/github/Abhay182005dat/Ai_Lab/blob/main/BFS.ipynb\" target=\"_parent\"><img src=\"https://colab.research.google.com/assets/colab-badge.svg\" alt=\"Open In Colab\"/></a>"
      ]
    },
    {
      "cell_type": "code",
      "execution_count": 1,
      "metadata": {
        "id": "4qxbIuGeiUk_"
      },
      "outputs": [],
      "source": [
        "from collections import deque"
      ]
    },
    {
      "cell_type": "markdown",
      "source": [
        "###Python Program to implement BFS Algorithm"
      ],
      "metadata": {
        "id": "jgD6Mc6kkSOA"
      }
    },
    {
      "cell_type": "code",
      "source": [
        "#Define the graph/tree structure using an adjacency list\n",
        "graph = {\n",
        "  'A': ['B','C'],\n",
        "  'B': ['D','E'],\n",
        "  'C': ['F'],\n",
        "  'D':[],\n",
        "  'E':[],\n",
        "  'F':[]\n",
        "}\n",
        "def bfs(graph,start_node):\n",
        "  visited = set() #To keep track of visited nodes\n",
        "  queue = deque([start_node]) #Queue to store nodes to visit, starting with the root node\n",
        "  print(\"BFS Traversal Order: \")\n",
        "  while queue: #Continue until the queue is empty\n",
        "  #Pop the first node from the queue\n",
        "    current_node = queue.popleft()\n",
        "\n",
        "  #If the node has not been visited, process it\n",
        "  if current_node not in visited:\n",
        "    print(current_node,end=\" \") #Process the node(print it)\n",
        "    visited.add(current_node)\n",
        "\n",
        "    #Add all unvisited neighbours of the current node to the queue\n",
        "    for neighbour in graph[current_node]:\n",
        "      if neighbour not in visited:\n",
        "        queue.append(neighbour)"
      ],
      "metadata": {
        "id": "HQVXECBnjY4S"
      },
      "execution_count": 2,
      "outputs": []
    },
    {
      "cell_type": "code",
      "source": [
        "#Call BFS starting from node 'A'\n",
        "bfs(graph,'A')"
      ],
      "metadata": {
        "colab": {
          "base_uri": "https://localhost:8080/"
        },
        "id": "Z8I12sMlj5Xj",
        "outputId": "82b8c27d-588d-4bbb-829b-3ba28746208f"
      },
      "execution_count": 3,
      "outputs": [
        {
          "output_type": "stream",
          "name": "stdout",
          "text": [
            "BFS Traversal Order: \n",
            "A "
          ]
        }
      ]
    }
  ]
}