{
  "nbformat": 4,
  "nbformat_minor": 0,
  "metadata": {
    "colab": {
      "provenance": [],
      "authorship_tag": "ABX9TyMug3SFHE1XTgdX3QS552Jz",
      "include_colab_link": true
    },
    "kernelspec": {
      "name": "python3",
      "display_name": "Python 3"
    },
    "language_info": {
      "name": "python"
    }
  },
  "cells": [
    {
      "cell_type": "markdown",
      "metadata": {
        "id": "view-in-github",
        "colab_type": "text"
      },
      "source": [
        "<a href=\"https://colab.research.google.com/github/Abhay182005dat/Ai_Lab/blob/main/Simple_Reflex_Agent.ipynb\" target=\"_parent\"><img src=\"https://colab.research.google.com/assets/colab-badge.svg\" alt=\"Open In Colab\"/></a>"
      ]
    },
    {
      "cell_type": "markdown",
      "source": [
        "###Simple Reflex Agent for Vacuum Cleaner World :"
      ],
      "metadata": {
        "id": "kMowYO7hV8jo"
      }
    },
    {
      "cell_type": "code",
      "execution_count": null,
      "metadata": {
        "id": "UEnSmr1cV6Yf"
      },
      "outputs": [],
      "source": [
        "def reflex_vacuum_agent(location , status):\n",
        "  if status == \"Dirty\":\n",
        "    return \"Suck\"\n",
        "  elif location == \"A\":\n",
        "    return \"Right\"\n",
        "  elif location == \"B\":\n",
        "    return \"Left\""
      ]
    },
    {
      "cell_type": "markdown",
      "source": [
        "###Test the Reflex Agent  ⚒"
      ],
      "metadata": {
        "id": "3BGbhWv5Wi7n"
      }
    },
    {
      "cell_type": "code",
      "source": [
        "location = \"A\"\n",
        "status = \"Dirty\""
      ],
      "metadata": {
        "id": "vNrV5e_tWYxv"
      },
      "execution_count": null,
      "outputs": []
    },
    {
      "cell_type": "code",
      "source": [
        "action =reflex_vacuum_agent(location , status)\n",
        "print(f\"Location : {location}, Status : {status} , Action : {action} \")"
      ],
      "metadata": {
        "colab": {
          "base_uri": "https://localhost:8080/"
        },
        "id": "fGDcHiZ8Wh3W",
        "outputId": "1a3443f6-667b-444c-889e-d97aefa6d1a4"
      },
      "execution_count": null,
      "outputs": [
        {
          "output_type": "stream",
          "name": "stdout",
          "text": [
            "Location : A, Status : Dirty , Action : Suck \n"
          ]
        }
      ]
    },
    {
      "cell_type": "code",
      "source": [
        "def reflex_vacuum_agent(location , status):\n",
        "  if status == \"Dirty\":\n",
        "    return \"Suck\"\n",
        "  elif location == \"A\":\n",
        "    return \"Right\"\n",
        "  elif location == \"B\":\n",
        "    return \"Left\""
      ],
      "metadata": {
        "id": "XYdy7lCmWx6G"
      },
      "execution_count": null,
      "outputs": []
    },
    {
      "cell_type": "code",
      "source": [
        "location = \"A\"\n",
        "status = \"Dirty\"\n",
        "locations = [\"A\", \"B\"]"
      ],
      "metadata": {
        "id": "6UOhl-LBYLbB"
      },
      "execution_count": null,
      "outputs": []
    },
    {
      "cell_type": "code",
      "source": [
        "for _ in range(5):\n",
        "  action = reflex_vacuum_agent(location, status)\n",
        "  print(f\"Location : {location} , Status : {status} , Action : {action}\")\n",
        "\n",
        "  if action == \"Suck\":\n",
        "    status  = \"Clean\"\n",
        "  elif action == \"Right\":\n",
        "    location = \"B\"\n",
        "  elif action == \"Left\":\n",
        "    location  = \"A\""
      ],
      "metadata": {
        "colab": {
          "base_uri": "https://localhost:8080/"
        },
        "id": "bHtGddesYYbv",
        "outputId": "087a9f42-281e-444a-af6a-6a9266b02c4b"
      },
      "execution_count": null,
      "outputs": [
        {
          "output_type": "stream",
          "name": "stdout",
          "text": [
            "Location : A , Status : Dirty , Action : Suck\n",
            "Location : A , Status : Clean , Action : Right\n",
            "Location : B , Status : Clean , Action : Left\n",
            "Location : A , Status : Clean , Action : Right\n",
            "Location : B , Status : Clean , Action : Left\n"
          ]
        }
      ]
    },
    {
      "cell_type": "code",
      "source": [
        "def move_toward_goal(position , goal):\n",
        "  while position < goal :\n",
        "    position +=1\n",
        "    print(f\"Current Position : {position}\")\n",
        "    print(\"Reached the goal!\")\n",
        "\n",
        "initial_position = 0\n",
        "goal_position = 5\n",
        "\n",
        "move_toward_goal(initial_position, goal_position)"
      ],
      "metadata": {
        "colab": {
          "base_uri": "https://localhost:8080/"
        },
        "id": "aN503vb0Ygcv",
        "outputId": "f3a64487-b32d-42f4-e0dc-ac993512769f"
      },
      "execution_count": null,
      "outputs": [
        {
          "output_type": "stream",
          "name": "stdout",
          "text": [
            "Current Position : 1\n",
            "Reached the goal!\n",
            "Current Position : 2\n",
            "Reached the goal!\n",
            "Current Position : 3\n",
            "Reached the goal!\n",
            "Current Position : 4\n",
            "Reached the goal!\n",
            "Current Position : 5\n",
            "Reached the goal!\n"
          ]
        }
      ]
    },
    {
      "cell_type": "markdown",
      "source": [
        "###Program to implement Vacuum Cleaner agent for two rooms import random"
      ],
      "metadata": {
        "id": "M8_tA1sSaurW"
      }
    },
    {
      "cell_type": "code",
      "source": [
        "def display(room):\n",
        "  print(room)"
      ],
      "metadata": {
        "id": "5CTxCG-_anhJ"
      },
      "execution_count": null,
      "outputs": []
    },
    {
      "cell_type": "code",
      "source": [
        "room = [[1,1,1,1],[1,1,1,1],[1,1,1,1],[1,1,1,1]]\n",
        "print(\"All the rooms are dirty\")\n",
        "display(room)"
      ],
      "metadata": {
        "colab": {
          "base_uri": "https://localhost:8080/"
        },
        "id": "Y-uDywTAbB73",
        "outputId": "675c6caf-b901-4167-b6d8-da311605a1b4"
      },
      "execution_count": null,
      "outputs": [
        {
          "output_type": "stream",
          "name": "stdout",
          "text": [
            "All the rooms are dirty\n",
            "[[1, 1, 1, 1], [1, 1, 1, 1], [1, 1, 1, 1], [1, 1, 1, 1]]\n"
          ]
        }
      ]
    },
    {
      "cell_type": "code",
      "source": [
        "#Randomly dirty some rooms\n",
        "x = 0 # Initialise the row index"
      ],
      "metadata": {
        "id": "L-8AixZhbIwX"
      },
      "execution_count": null,
      "outputs": []
    }
  ]
}